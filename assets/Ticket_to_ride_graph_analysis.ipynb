{
 "cells": [
  {
   "cell_type": "markdown",
   "metadata": {
    "id": "QA4GglrsSRuF"
   },
   "source": [
    "# Graph theory to model Ticket to ride\n",
    "\n",
    "<a target=\"_blank\" href=\"https://colab.research.google.com/github/mgfernan/mgfernan.github.io/blob/master/docs/assets/Ticket_to_ride_graph_analysis.ipynb\">\n",
    "  <img src=\"https://colab.research.google.com/assets/colab-badge.svg\" alt=\"Open In Colab\"/>\n",
    "</a>\n",
    "\n",
    "This notebook contains the analysis of the board game [Ticket to Ride](https://boardgamegeek.com/boardgame/9209/ticket-ride) using graph theory. To model the game, a distribution of various elements will be required (number of tracks, distribution of colors, and distribution of track lengths per each color).\n",
    "\n",
    "This notebook makes use of the following key libraries:\n",
    "\n",
    "- [Pandas](https://pandas.pydata.org/) for data loading and processing\n",
    "- [NetworkX](https://networkx.org/) for graph processing and above all, to **find the shortest path between two stations** (nodes).\n",
    "\n",
    "First we will need to install some required libraries as well as import necessary modules\n"
   ]
  },
  {
   "cell_type": "code",
   "execution_count": null,
   "metadata": {
    "tags": []
   },
   "outputs": [],
   "source": [
    "!pip install matplotlib networkx pandas"
   ]
  },
  {
   "cell_type": "code",
   "execution_count": null,
   "metadata": {
    "id": "1CgsZVG3aD33",
    "tags": []
   },
   "outputs": [],
   "source": [
    "import matplotlib.pyplot as plt\n",
    "import networkx as nx\n",
    "import pandas as pd"
   ]
  },
  {
   "cell_type": "markdown",
   "metadata": {
    "id": "C9qyhd40pf8U"
   },
   "source": [
    "The following cells contain some constants used in the notebook as well as the links to the CSVs that contain the Tracks and routes"
   ]
  },
  {
   "cell_type": "code",
   "execution_count": null,
   "metadata": {
    "id": "DGzMhynrpcwn",
    "tags": []
   },
   "outputs": [],
   "source": [
    "TRACK_LENGTH_COLUMN = 'length'\n",
    "FROM_COLUMN = 'from'\n",
    "TO_COLUMN = 'to'\n",
    "\n",
    "TRACKS_CSV_FILE_URL = 'https://raw.githubusercontent.com/mgfernan/mgfernan.github.io/master/docs/assets/Ticket_to_ride%20-%20Tracks.csv'\n",
    "TICKETS_CSV_FILE_URL = 'https://raw.githubusercontent.com/mgfernan/mgfernan.github.io/master/docs/assets/Ticket_to_ride%20-%20Tickets.csv'"
   ]
  },
  {
   "cell_type": "markdown",
   "metadata": {
    "id": "sYP6fJbBpqdF"
   },
   "source": [
    "First let's load the Track CSV, this will be used to visualize the track network as a mathematical graph (of nodes/stations and edges/tracks). The CSV contains the two stations for each track as well as their associated color and lengths (number of wagons required to complete the track)"
   ]
  },
  {
   "cell_type": "code",
   "execution_count": null,
   "metadata": {
    "id": "LQTzX-ODgY08",
    "tags": []
   },
   "outputs": [],
   "source": [
    "df = pd.read_csv(TRACKS_CSV_FILE_URL)\n",
    "df[TRACK_LENGTH_COLUMN] = pd.to_numeric(df[TRACK_LENGTH_COLUMN])\n",
    "df.head()"
   ]
  },
  {
   "cell_type": "markdown",
   "metadata": {
    "tags": []
   },
   "source": [
    "With this `DataFrame` we can know useful information such as:\n",
    "\n",
    "- Number of total tracks\n",
    "- Number of wagons required for each color\n",
    "- Track distribution for each color\n",
    "\n",
    "In addition, we can use the `DataFrame` to create the **graph** using the `networkx` library and make a visual representation of the track network"
   ]
  },
  {
   "cell_type": "code",
   "execution_count": null,
   "metadata": {
    "colab": {
     "base_uri": "https://localhost:8080/",
     "height": 516
    },
    "id": "mjoWcg_wjajY",
    "outputId": "d41fb2d1-e16b-4254-f403-2cc6191a3d40",
    "tags": []
   },
   "outputs": [],
   "source": [
    "# Create a directed graph with weighted edges\n",
    "graph = nx.from_pandas_edgelist(df, FROM_COLUMN, TO_COLUMN, edge_attr=TRACK_LENGTH_COLUMN, create_using=nx.Graph())\n",
    "\n",
    "# Plot the graph\n",
    "pos = nx.spring_layout(graph, weight=TRACK_LENGTH_COLUMN, seed=4)\n",
    "nx.draw(graph, pos, with_labels=True, node_size=400, node_color='skyblue', font_size=9, font_color='black', font_weight='bold', edge_color='grey', linewidths=2)\n",
    "\n",
    "# Add edge labels showing weights\n",
    "edge_labels = nx.get_edge_attributes(graph, TRACK_LENGTH_COLUMN)\n",
    "nx.draw_networkx_edge_labels(graph, pos, edge_labels=edge_labels)\n",
    "\n",
    "# Display the plot\n",
    "plt.show()"
   ]
  },
  {
   "cell_type": "markdown",
   "metadata": {},
   "source": [
    "The advantage of modeling the track network as a graph is that we can use already existing libraries to compute the shortest path between two stations (both the passing stations as well as the total length), as in the following example"
   ]
  },
  {
   "cell_type": "code",
   "execution_count": null,
   "metadata": {
    "colab": {
     "base_uri": "https://localhost:8080/",
     "height": 0
    },
    "id": "9AGWSTgRkod6",
    "outputId": "11ba6028-a9e4-4c2a-dcc5-a7509c1f0dfd",
    "tags": []
   },
   "outputs": [],
   "source": [
    "FROM = 'El Paso'\n",
    "DESTINATION = 'Raleigh'\n",
    "\n",
    "shortest_path = nx.shortest_path(graph, source=FROM, target=DESTINATION, weight=TRACK_LENGTH_COLUMN)\n",
    "print(f'The shortest path goes through these stations: {\" - \".join(shortest_path)}' )\n",
    "\n",
    "shortest_path_length = nx.shortest_path_length(graph, source=FROM, target=DESTINATION, weight=TRACK_LENGTH_COLUMN)\n",
    "print(f'The length for the shortest path is: {shortest_path_length}')\n"
   ]
  },
  {
   "cell_type": "markdown",
   "metadata": {},
   "source": [
    "These methods (specially `nx.shortest_path_length`) are very relevant to reverse engineer the ticket cards (that give points if a player completes a route). Basically we need to know how the points awarded per card is related to the shortest path.\n",
    "\n",
    "To do so, we will load the Ticket CSV into a `DataFrame` and compute the shortest path for each card:"
   ]
  },
  {
   "cell_type": "code",
   "execution_count": null,
   "metadata": {
    "id": "YboJ-FcZMgYE",
    "tags": []
   },
   "outputs": [],
   "source": [
    "# Load the Ticket CSV\n",
    "df_tickets = pd.read_csv(TICKETS_CSV_FILE_URL)\n",
    "\n",
    "# Create a new column in the dataframe with the shortest path length for each route (i.e. ticket card)\n",
    "df_tickets[TRACK_LENGTH_COLUMN] = df_tickets.apply(lambda r: nx.shortest_path_length(graph, source=r[FROM_COLUMN], target=r[TO_COLUMN], weight=TRACK_LENGTH_COLUMN), axis=1)\n",
    "\n",
    "df_tickets.head()"
   ]
  },
  {
   "cell_type": "markdown",
   "metadata": {
    "id": "f8gcrkMNMl4_"
   },
   "source": [
    "At this point we can realize that the points awarded per route are in fact equivalent (at least on the most cases) with the lengths (i.e. total number of wagons required to complete the route), which makes sense."
   ]
  },
  {
   "cell_type": "code",
   "execution_count": null,
   "metadata": {
    "id": "mOyN6tgfNN5U",
    "tags": []
   },
   "outputs": [],
   "source": [
    "plt.plot(df_tickets[TRACK_LENGTH_COLUMN], df_tickets['points'], 'o')\n",
    "plt.xlabel('Shortest route length [number of wagons]')\n",
    "plt.ylabel('Ticket card points')\n",
    "plt.title('Relationship between Ticket card points and\\nShortest route length')\n",
    "plt.show()"
   ]
  }
 ],
 "metadata": {
  "colab": {
   "provenance": []
  },
  "kernelspec": {
   "display_name": "Python 3 (ipykernel)",
   "language": "python",
   "name": "python3"
  },
  "language_info": {
   "codemirror_mode": {
    "name": "ipython",
    "version": 3
   },
   "file_extension": ".py",
   "mimetype": "text/x-python",
   "name": "python",
   "nbconvert_exporter": "python",
   "pygments_lexer": "ipython3",
   "version": "3.8.10"
  }
 },
 "nbformat": 4,
 "nbformat_minor": 4
}
